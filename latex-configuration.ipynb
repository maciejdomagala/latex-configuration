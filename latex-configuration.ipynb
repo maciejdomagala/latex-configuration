{
 "nbformat": 4,
 "nbformat_minor": 2,
 "metadata": {
  "language_info": {
   "name": "python",
   "codemirror_mode": {
    "name": "ipython",
    "version": 3
   },
   "version": "3.7.0-final"
  },
  "orig_nbformat": 2,
  "file_extension": ".py",
  "mimetype": "text/x-python",
  "name": "python",
  "npconvert_exporter": "python",
  "pygments_lexer": "ipython3",
  "version": 3,
  "kernelspec": {
   "name": "python37064bit6865aaf859694170b2532f8806672caa",
   "display_name": "Python 3.7.0 64-bit"
  }
 },
 "cells": [
  {
   "cell_type": "markdown",
   "metadata": {},
   "source": [
    "# LaTeX configuration "
   ]
  },
  {
   "cell_type": "markdown",
   "metadata": {},
   "source": [
    "1. Download MikTeX from the official site https://miktex.org/2.9/setup.\n",
    "   Optionally a distribution such as BasicTeX or TeXLive could be installed (in case of lack of space), but it      is recommended to download the MikTeX if possible. After downloading, perform the installation."
   ]
  },
  {
   "cell_type": "markdown",
   "metadata": {},
   "source": [
    "![MikTeX](img\\miktex.png)"
   ]
  },
  {
   "cell_type": "markdown",
   "metadata": {},
   "source": [
    "2. Download and install the TeXmaker program from the official site \n",
    "   https://www.xm1math.net/texmaker/download.html."
   ]
  },
  {
   "cell_type": "markdown",
   "metadata": {},
   "source": [
    "3. To check if everything was installed correctly, open the TeXmaker program and select File -> New. Copy and       paste below code:"
   ]
  },
  {
   "cell_type": "code",
   "execution_count": null,
   "metadata": {},
   "outputs": [],
   "source": [
    "\\documentclass[12pt,a4paper,openany]{article}\n",
    "\n",
    "\\begin{document}\n",
    "\n",
    "Hello world.\n",
    "\n",
    "\\end{document}"
   ]
  },
  {
   "cell_type": "markdown",
   "metadata": {},
   "source": [
    "4. Save the file under the hello_world.tex name and select \"Quick Build\" option from the menu above the file        code. Make sure that the \"View PDF\" option is enabled next to the build option. Running the build should         result in creating .pdf file and previewing it in the program."
   ]
  },
  {
   "cell_type": "markdown",
   "metadata": {},
   "source": [
    "![hello_world](img\\hello_world.png)"
   ]
  }
 ]
}